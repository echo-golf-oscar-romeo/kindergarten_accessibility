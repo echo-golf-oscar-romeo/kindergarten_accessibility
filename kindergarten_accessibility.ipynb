{
 "cells": [
  {
   "cell_type": "code",
   "execution_count": 1,
   "id": "75148157",
   "metadata": {},
   "outputs": [],
   "source": [
    "from qgis.core import *\n",
    "import pandas as pd\n",
    "import numpy as np"
   ]
  },
  {
   "cell_type": "code",
   "execution_count": 2,
   "id": "bfd1301c",
   "metadata": {},
   "outputs": [],
   "source": [
    "import sys\n",
    "import os\n",
    "from osgeo import ogr\n",
    "from qgis.core import (\n",
    "     QgsApplication,\n",
    "     QgsProcessingFeedback,\n",
    "     QgsVectorLayer\n",
    ")\n",
    "from qgis.analysis import QgsNativeAlgorithms"
   ]
  },
  {
   "cell_type": "code",
   "execution_count": 3,
   "id": "9727487f",
   "metadata": {},
   "outputs": [],
   "source": [
    "QgsApplication.setPrefixPath(r'C:\\OSGeo4W\\apps\\qgis', True)\n",
    "qgs = QgsApplication([], False)\n",
    "qgs.initQgis()\n",
    "sys.path.append(r'C:\\OSGeo4W\\apps\\qgis\\python\\plugins')"
   ]
  },
  {
   "cell_type": "code",
   "execution_count": 105,
   "id": "5e921c46",
   "metadata": {},
   "outputs": [
    {
     "data": {
      "text/plain": [
       "False"
      ]
     },
     "execution_count": 105,
     "metadata": {},
     "output_type": "execute_result"
    }
   ],
   "source": [
    "import geopandas as gpd\n",
    "import matplotlib.pyplot as plt\n",
    "plt.ion()\n",
    "import xlwings as xw\n",
    "import time\n",
    "import seaborn as sns\n",
    "import math\n",
    "import statistics\n",
    "import scipy.stats\n",
    "\n",
    "import processing\n",
    "from processing.core.Processing import Processing\n",
    "Processing.initialize()\n",
    "QgsApplication.processingRegistry().addProvider(QgsNativeAlgorithms())\n",
    "#for alg in QgsApplication.processingRegistry().algorithms():\n",
    "#        print(alg.id(), \"--->\", alg.displayName())"
   ]
  },
  {
   "cell_type": "code",
   "execution_count": 5,
   "id": "b56ec289",
   "metadata": {},
   "outputs": [],
   "source": [
    "# living_houses_pts = QgsVectorLayer(r\"https://github.com/echo-golf-oscar-romeo/kindergarten_accessibility/blob/c66a8368b58ad126afb051cc72958379104b80fb/living_houses_pts.geojson\")\n",
    "# kindergarten_pts = QgsVectorLayer(r\"https://github.com/echo-golf-oscar-romeo/kindergarten_accessibility/blob/5f8e3b92d19082e424ded1010d9ca836e44ba49c/kindergarten_pts.geojson\")\n",
    "\n",
    "living_houses_pts = QgsVectorLayer(r\"C:\\Users\\egorb\\Documents\\ГП\\2 курс\\ПроектСем\\3 module\\PyModel\\resid.geojson\")\n",
    "kindergarten_pts = QgsVectorLayer(r\"C:\\Users\\egorb\\Documents\\ГП\\2 курс\\ПроектСем\\3 module\\PyModel\\kindergarten_pts.geojson\")"
   ]
  },
  {
   "cell_type": "code",
   "execution_count": 6,
   "id": "28874a08",
   "metadata": {},
   "outputs": [],
   "source": [
    "from qgis.core import QgsProcessing\n",
    "from qgis.core import QgsProcessingAlgorithm\n",
    "from qgis.core import QgsProcessingMultiStepFeedback\n",
    "from qgis.core import QgsProcessingParameterVectorLayer\n",
    "from qgis.core import QgsProcessingParameterNumber\n",
    "from qgis.core import QgsProcessingParameterFileDestination\n",
    "from qgis.core import QgsProcessingParameterFeatureSink\n",
    "import processing\n",
    "\n",
    "\n",
    "class Kindergarten_egor(QgsProcessingAlgorithm):\n",
    "\n",
    "    def initAlgorithm(self, config=None):\n",
    "        self.addParameter(QgsProcessingParameterVectorLayer('livinghousescentoids', 'living_houses_centoids', types=[QgsProcessing.TypeVectorPoint], defaultValue=living_houses_pts))\n",
    "        self.addParameter(QgsProcessingParameterVectorLayer('kindergartencentroids', 'kindergarten_centroids', types=[QgsProcessing.TypeVectorPoint], defaultValue=kindergarten_pts))\n",
    "        self.addParameter(QgsProcessingParameterNumber('bufferradius', 'buffer_radius', type=QgsProcessingParameterNumber.Integer, minValue=1, defaultValue=300))\n",
    "        self.addParameter(QgsProcessingParameterFileDestination('Spreadsheet', 'spreadsheet', fileFilter='Microsoft Excel (*.xlsx);;Open Document Spreadsheet (*.ods)', createByDefault=True, defaultValue=None))\n",
    "        self.addParameter(QgsProcessingParameterFeatureSink('Intersection_raw', 'intersection_raw', optional=True, type=QgsProcessing.TypeVectorAnyGeometry, createByDefault=True, defaultValue=None))\n",
    "\n",
    "    def processAlgorithm(self, parameters, context, model_feedback):\n",
    "        # Use a multi-step feedback, so that individual child algorithm progress reports are adjusted for the\n",
    "        # overall progress through the model\n",
    "        feedback = QgsProcessingMultiStepFeedback(3, model_feedback)\n",
    "        results = {}\n",
    "        outputs = {}\n",
    "\n",
    "        # Buffer\n",
    "        alg_params = {\n",
    "            'DISSOLVE': False,\n",
    "            'DISTANCE': parameters['bufferradius'],\n",
    "            'END_CAP_STYLE': 0,  # Round\n",
    "            'INPUT': parameters['kindergartencentroids'],\n",
    "            'JOIN_STYLE': 0,  # Round\n",
    "            'MITER_LIMIT': 2,\n",
    "            'SEGMENTS': 15,\n",
    "            'OUTPUT': QgsProcessing.TEMPORARY_OUTPUT\n",
    "        }\n",
    "        outputs['Buffer'] = processing.run('native:buffer', alg_params, context=context, feedback=feedback, is_child_algorithm=True)\n",
    "\n",
    "        feedback.setCurrentStep(1)\n",
    "        if feedback.isCanceled():\n",
    "            return {}\n",
    "\n",
    "        # Join attributes by location\n",
    "        alg_params = {\n",
    "            'DISCARD_NONMATCHING': False,\n",
    "            'INPUT': outputs['Buffer']['OUTPUT'],\n",
    "            'JOIN': parameters['livinghousescentoids'],\n",
    "            'JOIN_FIELDS': [''],\n",
    "            'METHOD': 0,  # Create separate feature for each matching feature (one-to-many)\n",
    "            'PREDICATE': [1],  # contains\n",
    "            'PREFIX': 'j_',\n",
    "            'OUTPUT': parameters['Intersection_raw']\n",
    "        }\n",
    "        outputs['JoinAttributesByLocation'] = processing.run('native:joinattributesbylocation', alg_params, context=context, feedback=feedback, is_child_algorithm=True)\n",
    "        results['Intersection_raw'] = outputs['JoinAttributesByLocation']['OUTPUT']\n",
    "\n",
    "        feedback.setCurrentStep(2)\n",
    "        if feedback.isCanceled():\n",
    "            return {}\n",
    "\n",
    "        # Export to spreadsheet\n",
    "        alg_params = {\n",
    "            'FORMATTED_VALUES': False,\n",
    "            'LAYERS': outputs['JoinAttributesByLocation']['OUTPUT'],\n",
    "            'OVERWRITE': True,\n",
    "            'USE_ALIAS': False,\n",
    "            'OUTPUT': parameters['Spreadsheet']\n",
    "        }\n",
    "        outputs['ExportToSpreadsheet'] = processing.run('native:exporttospreadsheet', alg_params, context=context, feedback=feedback, is_child_algorithm=True)\n",
    "        results['Spreadsheet'] = outputs['ExportToSpreadsheet']['OUTPUT']\n",
    "        print(results['Spreadsheet'])\n",
    "        return results\n",
    "\n",
    "    def name(self):\n",
    "        return 'kindergarten_egor'\n",
    "\n",
    "    def displayName(self):\n",
    "        return 'kindergarten_egor'\n",
    "\n",
    "    def group(self):\n",
    "        return 'egor'\n",
    "\n",
    "    def groupId(self):\n",
    "        return 'egor'\n",
    "\n",
    "    def createInstance(self):\n",
    "        return Kindergarten_egor()"
   ]
  },
  {
   "cell_type": "code",
   "execution_count": 157,
   "id": "dfb6bcf9",
   "metadata": {
    "scrolled": true
   },
   "outputs": [
    {
     "name": "stdout",
     "output_type": "stream",
     "text": [
      "C:\\Users\\egorb\\Documents\\ГП\\2 курс\\ПроектСем\\3 module\\PyModel\\trash\\trash_0002000.xlsx\n"
     ]
    },
    {
     "ename": "LinAlgError",
     "evalue": "singular matrix",
     "output_type": "error",
     "traceback": [
      "\u001b[1;31m---------------------------------------------------------------------------\u001b[0m",
      "\u001b[1;31mLinAlgError\u001b[0m                               Traceback (most recent call last)",
      "Input \u001b[1;32mIn [157]\u001b[0m, in \u001b[0;36m<module>\u001b[1;34m\u001b[0m\n\u001b[0;32m     61\u001b[0m ax2 \u001b[38;5;241m=\u001b[39m ax1\u001b[38;5;241m.\u001b[39mtwinx()\n\u001b[0;32m     62\u001b[0m \u001b[38;5;66;03m# ax2 = x.plot.kde(bw_method='silverman', label='')\u001b[39;00m\n\u001b[1;32m---> 63\u001b[0m ax2 \u001b[38;5;241m=\u001b[39m \u001b[43mx\u001b[49m\u001b[38;5;241;43m.\u001b[39;49m\u001b[43mplot\u001b[49m\u001b[38;5;241;43m.\u001b[39;49m\u001b[43mkde\u001b[49m\u001b[43m(\u001b[49m\u001b[43mbw_method\u001b[49m\u001b[38;5;241;43m=\u001b[39;49m\u001b[43mbw\u001b[49m\u001b[43m,\u001b[49m\u001b[43m \u001b[49m\u001b[43mlabel\u001b[49m\u001b[38;5;241;43m=\u001b[39;49m\u001b[38;5;124;43m'\u001b[39;49m\u001b[38;5;124;43mKDE: bw=\u001b[39;49m\u001b[38;5;132;43;01m%s\u001b[39;49;00m\u001b[38;5;124;43m'\u001b[39;49m\u001b[43m \u001b[49m\u001b[38;5;241;43m%\u001b[39;49m\u001b[43mbw\u001b[49m\u001b[43m,\u001b[49m\u001b[43m \u001b[49m\u001b[43mcolor\u001b[49m\u001b[38;5;241;43m=\u001b[39;49m\u001b[38;5;124;43m'\u001b[39;49m\u001b[38;5;124;43m#ffd800\u001b[39;49m\u001b[38;5;124;43m'\u001b[39;49m\u001b[43m)\u001b[49m\n\u001b[0;32m     64\u001b[0m ax2\u001b[38;5;241m.\u001b[39mset_ylabel(\u001b[38;5;124m'\u001b[39m\u001b[38;5;124mПлотность\u001b[39m\u001b[38;5;124m'\u001b[39m)\n\u001b[0;32m     65\u001b[0m ax2\u001b[38;5;241m.\u001b[39mtick_params(axis\u001b[38;5;241m=\u001b[39m\u001b[38;5;124m'\u001b[39m\u001b[38;5;124my\u001b[39m\u001b[38;5;124m'\u001b[39m)\n",
      "File \u001b[1;32mC:\\OSGeo4W\\apps\\Python39\\lib\\site-packages\\pandas\\plotting\\_core.py:1454\u001b[0m, in \u001b[0;36mPlotAccessor.kde\u001b[1;34m(self, bw_method, ind, **kwargs)\u001b[0m\n\u001b[0;32m   1348\u001b[0m \u001b[38;5;28;01mdef\u001b[39;00m \u001b[38;5;21mkde\u001b[39m(\u001b[38;5;28mself\u001b[39m, bw_method\u001b[38;5;241m=\u001b[39m\u001b[38;5;28;01mNone\u001b[39;00m, ind\u001b[38;5;241m=\u001b[39m\u001b[38;5;28;01mNone\u001b[39;00m, \u001b[38;5;241m*\u001b[39m\u001b[38;5;241m*\u001b[39mkwargs):\n\u001b[0;32m   1349\u001b[0m     \u001b[38;5;124;03m\"\"\"\u001b[39;00m\n\u001b[0;32m   1350\u001b[0m \u001b[38;5;124;03m    Generate Kernel Density Estimate plot using Gaussian kernels.\u001b[39;00m\n\u001b[0;32m   1351\u001b[0m \n\u001b[1;32m   (...)\u001b[0m\n\u001b[0;32m   1452\u001b[0m \u001b[38;5;124;03m        >>> ax = df.plot.kde(ind=[1, 2, 3, 4, 5, 6])\u001b[39;00m\n\u001b[0;32m   1453\u001b[0m \u001b[38;5;124;03m    \"\"\"\u001b[39;00m\n\u001b[1;32m-> 1454\u001b[0m     \u001b[38;5;28;01mreturn\u001b[39;00m \u001b[38;5;28mself\u001b[39m(kind\u001b[38;5;241m=\u001b[39m\u001b[38;5;124m\"\u001b[39m\u001b[38;5;124mkde\u001b[39m\u001b[38;5;124m\"\u001b[39m, bw_method\u001b[38;5;241m=\u001b[39mbw_method, ind\u001b[38;5;241m=\u001b[39mind, \u001b[38;5;241m*\u001b[39m\u001b[38;5;241m*\u001b[39mkwargs)\n",
      "File \u001b[1;32mC:\\OSGeo4W\\apps\\Python39\\lib\\site-packages\\pandas\\plotting\\_core.py:972\u001b[0m, in \u001b[0;36mPlotAccessor.__call__\u001b[1;34m(self, *args, **kwargs)\u001b[0m\n\u001b[0;32m    969\u001b[0m             label_name \u001b[38;5;241m=\u001b[39m label_kw \u001b[38;5;129;01mor\u001b[39;00m data\u001b[38;5;241m.\u001b[39mcolumns\n\u001b[0;32m    970\u001b[0m             data\u001b[38;5;241m.\u001b[39mcolumns \u001b[38;5;241m=\u001b[39m label_name\n\u001b[1;32m--> 972\u001b[0m \u001b[38;5;28;01mreturn\u001b[39;00m plot_backend\u001b[38;5;241m.\u001b[39mplot(data, kind\u001b[38;5;241m=\u001b[39mkind, \u001b[38;5;241m*\u001b[39m\u001b[38;5;241m*\u001b[39mkwargs)\n",
      "File \u001b[1;32mC:\\OSGeo4W\\apps\\Python39\\lib\\site-packages\\pandas\\plotting\\_matplotlib\\__init__.py:71\u001b[0m, in \u001b[0;36mplot\u001b[1;34m(data, kind, **kwargs)\u001b[0m\n\u001b[0;32m     69\u001b[0m         kwargs[\u001b[38;5;124m\"\u001b[39m\u001b[38;5;124max\u001b[39m\u001b[38;5;124m\"\u001b[39m] \u001b[38;5;241m=\u001b[39m \u001b[38;5;28mgetattr\u001b[39m(ax, \u001b[38;5;124m\"\u001b[39m\u001b[38;5;124mleft_ax\u001b[39m\u001b[38;5;124m\"\u001b[39m, ax)\n\u001b[0;32m     70\u001b[0m plot_obj \u001b[38;5;241m=\u001b[39m PLOT_CLASSES[kind](data, \u001b[38;5;241m*\u001b[39m\u001b[38;5;241m*\u001b[39mkwargs)\n\u001b[1;32m---> 71\u001b[0m \u001b[43mplot_obj\u001b[49m\u001b[38;5;241;43m.\u001b[39;49m\u001b[43mgenerate\u001b[49m\u001b[43m(\u001b[49m\u001b[43m)\u001b[49m\n\u001b[0;32m     72\u001b[0m plot_obj\u001b[38;5;241m.\u001b[39mdraw()\n\u001b[0;32m     73\u001b[0m \u001b[38;5;28;01mreturn\u001b[39;00m plot_obj\u001b[38;5;241m.\u001b[39mresult\n",
      "File \u001b[1;32mC:\\OSGeo4W\\apps\\Python39\\lib\\site-packages\\pandas\\plotting\\_matplotlib\\core.py:329\u001b[0m, in \u001b[0;36mMPLPlot.generate\u001b[1;34m(self)\u001b[0m\n\u001b[0;32m    327\u001b[0m \u001b[38;5;28mself\u001b[39m\u001b[38;5;241m.\u001b[39m_compute_plot_data()\n\u001b[0;32m    328\u001b[0m \u001b[38;5;28mself\u001b[39m\u001b[38;5;241m.\u001b[39m_setup_subplots()\n\u001b[1;32m--> 329\u001b[0m \u001b[38;5;28;43mself\u001b[39;49m\u001b[38;5;241;43m.\u001b[39;49m\u001b[43m_make_plot\u001b[49m\u001b[43m(\u001b[49m\u001b[43m)\u001b[49m\n\u001b[0;32m    330\u001b[0m \u001b[38;5;28mself\u001b[39m\u001b[38;5;241m.\u001b[39m_add_table()\n\u001b[0;32m    331\u001b[0m \u001b[38;5;28mself\u001b[39m\u001b[38;5;241m.\u001b[39m_make_legend()\n",
      "File \u001b[1;32mC:\\OSGeo4W\\apps\\Python39\\lib\\site-packages\\pandas\\plotting\\_matplotlib\\hist.py:140\u001b[0m, in \u001b[0;36mHistPlot._make_plot\u001b[1;34m(self)\u001b[0m\n\u001b[0;32m    137\u001b[0m \u001b[38;5;28;01mif\u001b[39;00m weights \u001b[38;5;129;01mis\u001b[39;00m \u001b[38;5;129;01mnot\u001b[39;00m \u001b[38;5;28;01mNone\u001b[39;00m \u001b[38;5;129;01mand\u001b[39;00m np\u001b[38;5;241m.\u001b[39mndim(weights) \u001b[38;5;241m!=\u001b[39m \u001b[38;5;241m1\u001b[39m:\n\u001b[0;32m    138\u001b[0m     kwds[\u001b[38;5;124m\"\u001b[39m\u001b[38;5;124mweights\u001b[39m\u001b[38;5;124m\"\u001b[39m] \u001b[38;5;241m=\u001b[39m weights[:, i]\n\u001b[1;32m--> 140\u001b[0m artists \u001b[38;5;241m=\u001b[39m \u001b[38;5;28mself\u001b[39m\u001b[38;5;241m.\u001b[39m_plot(ax, y, column_num\u001b[38;5;241m=\u001b[39mi, stacking_id\u001b[38;5;241m=\u001b[39mstacking_id, \u001b[38;5;241m*\u001b[39m\u001b[38;5;241m*\u001b[39mkwds)\n\u001b[0;32m    142\u001b[0m \u001b[38;5;66;03m# when by is applied, show title for subplots to know which group it is\u001b[39;00m\n\u001b[0;32m    143\u001b[0m \u001b[38;5;28;01mif\u001b[39;00m \u001b[38;5;28mself\u001b[39m\u001b[38;5;241m.\u001b[39mby \u001b[38;5;129;01mis\u001b[39;00m \u001b[38;5;129;01mnot\u001b[39;00m \u001b[38;5;28;01mNone\u001b[39;00m:\n",
      "File \u001b[1;32mC:\\OSGeo4W\\apps\\Python39\\lib\\site-packages\\pandas\\plotting\\_matplotlib\\hist.py:216\u001b[0m, in \u001b[0;36mKdePlot._plot\u001b[1;34m(cls, ax, y, style, bw_method, ind, column_num, stacking_id, **kwds)\u001b[0m\n\u001b[0;32m    213\u001b[0m \u001b[38;5;28;01mfrom\u001b[39;00m \u001b[38;5;21;01mscipy\u001b[39;00m\u001b[38;5;21;01m.\u001b[39;00m\u001b[38;5;21;01mstats\u001b[39;00m \u001b[38;5;28;01mimport\u001b[39;00m gaussian_kde\n\u001b[0;32m    215\u001b[0m y \u001b[38;5;241m=\u001b[39m remove_na_arraylike(y)\n\u001b[1;32m--> 216\u001b[0m gkde \u001b[38;5;241m=\u001b[39m \u001b[43mgaussian_kde\u001b[49m\u001b[43m(\u001b[49m\u001b[43my\u001b[49m\u001b[43m,\u001b[49m\u001b[43m \u001b[49m\u001b[43mbw_method\u001b[49m\u001b[38;5;241;43m=\u001b[39;49m\u001b[43mbw_method\u001b[49m\u001b[43m)\u001b[49m\n\u001b[0;32m    218\u001b[0m y \u001b[38;5;241m=\u001b[39m gkde\u001b[38;5;241m.\u001b[39mevaluate(ind)\n\u001b[0;32m    219\u001b[0m lines \u001b[38;5;241m=\u001b[39m MPLPlot\u001b[38;5;241m.\u001b[39m_plot(ax, ind, y, style\u001b[38;5;241m=\u001b[39mstyle, \u001b[38;5;241m*\u001b[39m\u001b[38;5;241m*\u001b[39mkwds)\n",
      "File \u001b[1;32mC:\\OSGeo4W\\apps\\Python39\\lib\\site-packages\\scipy\\stats\\kde.py:206\u001b[0m, in \u001b[0;36mgaussian_kde.__init__\u001b[1;34m(self, dataset, bw_method, weights)\u001b[0m\n\u001b[0;32m    203\u001b[0m         \u001b[38;5;28;01mraise\u001b[39;00m \u001b[38;5;167;01mValueError\u001b[39;00m(\u001b[38;5;124m\"\u001b[39m\u001b[38;5;124m`weights` input should be of length n\u001b[39m\u001b[38;5;124m\"\u001b[39m)\n\u001b[0;32m    204\u001b[0m     \u001b[38;5;28mself\u001b[39m\u001b[38;5;241m.\u001b[39m_neff \u001b[38;5;241m=\u001b[39m \u001b[38;5;241m1\u001b[39m\u001b[38;5;241m/\u001b[39m\u001b[38;5;28msum\u001b[39m(\u001b[38;5;28mself\u001b[39m\u001b[38;5;241m.\u001b[39m_weights\u001b[38;5;241m*\u001b[39m\u001b[38;5;241m*\u001b[39m\u001b[38;5;241m2\u001b[39m)\n\u001b[1;32m--> 206\u001b[0m \u001b[38;5;28;43mself\u001b[39;49m\u001b[38;5;241;43m.\u001b[39;49m\u001b[43mset_bandwidth\u001b[49m\u001b[43m(\u001b[49m\u001b[43mbw_method\u001b[49m\u001b[38;5;241;43m=\u001b[39;49m\u001b[43mbw_method\u001b[49m\u001b[43m)\u001b[49m\n",
      "File \u001b[1;32mC:\\OSGeo4W\\apps\\Python39\\lib\\site-packages\\scipy\\stats\\kde.py:556\u001b[0m, in \u001b[0;36mgaussian_kde.set_bandwidth\u001b[1;34m(self, bw_method)\u001b[0m\n\u001b[0;32m    552\u001b[0m     msg \u001b[38;5;241m=\u001b[39m \u001b[38;5;124m\"\u001b[39m\u001b[38;5;124m`bw_method` should be \u001b[39m\u001b[38;5;124m'\u001b[39m\u001b[38;5;124mscott\u001b[39m\u001b[38;5;124m'\u001b[39m\u001b[38;5;124m, \u001b[39m\u001b[38;5;124m'\u001b[39m\u001b[38;5;124msilverman\u001b[39m\u001b[38;5;124m'\u001b[39m\u001b[38;5;124m, a scalar \u001b[39m\u001b[38;5;124m\"\u001b[39m \\\n\u001b[0;32m    553\u001b[0m           \u001b[38;5;124m\"\u001b[39m\u001b[38;5;124mor a callable.\u001b[39m\u001b[38;5;124m\"\u001b[39m\n\u001b[0;32m    554\u001b[0m     \u001b[38;5;28;01mraise\u001b[39;00m \u001b[38;5;167;01mValueError\u001b[39;00m(msg)\n\u001b[1;32m--> 556\u001b[0m \u001b[38;5;28;43mself\u001b[39;49m\u001b[38;5;241;43m.\u001b[39;49m\u001b[43m_compute_covariance\u001b[49m\u001b[43m(\u001b[49m\u001b[43m)\u001b[49m\n",
      "File \u001b[1;32mC:\\OSGeo4W\\apps\\Python39\\lib\\site-packages\\scipy\\stats\\kde.py:568\u001b[0m, in \u001b[0;36mgaussian_kde._compute_covariance\u001b[1;34m(self)\u001b[0m\n\u001b[0;32m    564\u001b[0m \u001b[38;5;28;01mif\u001b[39;00m \u001b[38;5;129;01mnot\u001b[39;00m \u001b[38;5;28mhasattr\u001b[39m(\u001b[38;5;28mself\u001b[39m, \u001b[38;5;124m'\u001b[39m\u001b[38;5;124m_data_inv_cov\u001b[39m\u001b[38;5;124m'\u001b[39m):\n\u001b[0;32m    565\u001b[0m     \u001b[38;5;28mself\u001b[39m\u001b[38;5;241m.\u001b[39m_data_covariance \u001b[38;5;241m=\u001b[39m atleast_2d(cov(\u001b[38;5;28mself\u001b[39m\u001b[38;5;241m.\u001b[39mdataset, rowvar\u001b[38;5;241m=\u001b[39m\u001b[38;5;241m1\u001b[39m,\n\u001b[0;32m    566\u001b[0m                                        bias\u001b[38;5;241m=\u001b[39m\u001b[38;5;28;01mFalse\u001b[39;00m,\n\u001b[0;32m    567\u001b[0m                                        aweights\u001b[38;5;241m=\u001b[39m\u001b[38;5;28mself\u001b[39m\u001b[38;5;241m.\u001b[39mweights))\n\u001b[1;32m--> 568\u001b[0m     \u001b[38;5;28mself\u001b[39m\u001b[38;5;241m.\u001b[39m_data_inv_cov \u001b[38;5;241m=\u001b[39m \u001b[43mlinalg\u001b[49m\u001b[38;5;241;43m.\u001b[39;49m\u001b[43minv\u001b[49m\u001b[43m(\u001b[49m\u001b[38;5;28;43mself\u001b[39;49m\u001b[38;5;241;43m.\u001b[39;49m\u001b[43m_data_covariance\u001b[49m\u001b[43m)\u001b[49m\n\u001b[0;32m    570\u001b[0m \u001b[38;5;28mself\u001b[39m\u001b[38;5;241m.\u001b[39mcovariance \u001b[38;5;241m=\u001b[39m \u001b[38;5;28mself\u001b[39m\u001b[38;5;241m.\u001b[39m_data_covariance \u001b[38;5;241m*\u001b[39m \u001b[38;5;28mself\u001b[39m\u001b[38;5;241m.\u001b[39mfactor\u001b[38;5;241m*\u001b[39m\u001b[38;5;241m*\u001b[39m\u001b[38;5;241m2\u001b[39m\n\u001b[0;32m    571\u001b[0m \u001b[38;5;28mself\u001b[39m\u001b[38;5;241m.\u001b[39minv_cov \u001b[38;5;241m=\u001b[39m \u001b[38;5;28mself\u001b[39m\u001b[38;5;241m.\u001b[39m_data_inv_cov \u001b[38;5;241m/\u001b[39m \u001b[38;5;28mself\u001b[39m\u001b[38;5;241m.\u001b[39mfactor\u001b[38;5;241m*\u001b[39m\u001b[38;5;241m*\u001b[39m\u001b[38;5;241m2\u001b[39m\n",
      "File \u001b[1;32mC:\\OSGeo4W\\apps\\Python39\\lib\\site-packages\\scipy\\linalg\\basic.py:963\u001b[0m, in \u001b[0;36minv\u001b[1;34m(a, overwrite_a, check_finite)\u001b[0m\n\u001b[0;32m    961\u001b[0m     inv_a, info \u001b[38;5;241m=\u001b[39m getri(lu, piv, lwork\u001b[38;5;241m=\u001b[39mlwork, overwrite_lu\u001b[38;5;241m=\u001b[39m\u001b[38;5;241m1\u001b[39m)\n\u001b[0;32m    962\u001b[0m \u001b[38;5;28;01mif\u001b[39;00m info \u001b[38;5;241m>\u001b[39m \u001b[38;5;241m0\u001b[39m:\n\u001b[1;32m--> 963\u001b[0m     \u001b[38;5;28;01mraise\u001b[39;00m LinAlgError(\u001b[38;5;124m\"\u001b[39m\u001b[38;5;124msingular matrix\u001b[39m\u001b[38;5;124m\"\u001b[39m)\n\u001b[0;32m    964\u001b[0m \u001b[38;5;28;01mif\u001b[39;00m info \u001b[38;5;241m<\u001b[39m \u001b[38;5;241m0\u001b[39m:\n\u001b[0;32m    965\u001b[0m     \u001b[38;5;28;01mraise\u001b[39;00m \u001b[38;5;167;01mValueError\u001b[39;00m(\u001b[38;5;124m'\u001b[39m\u001b[38;5;124millegal value in \u001b[39m\u001b[38;5;132;01m%d\u001b[39;00m\u001b[38;5;124m-th argument of internal \u001b[39m\u001b[38;5;124m'\u001b[39m\n\u001b[0;32m    966\u001b[0m                      \u001b[38;5;124m'\u001b[39m\u001b[38;5;124mgetrf|getri\u001b[39m\u001b[38;5;124m'\u001b[39m \u001b[38;5;241m%\u001b[39m \u001b[38;5;241m-\u001b[39minfo)\n",
      "\u001b[1;31mLinAlgError\u001b[0m: singular matrix"
     ]
    },
    {
     "data": {
      "image/png": "[encoded data removed]",
      "text/plain": [
       "<Figure size 432x288 with 2 Axes>"
      ]
     },
     "metadata": {
      "needs_background": "light"
     },
     "output_type": "display_data"
    }
   ],
   "source": [
    "hello = Kindergarten_egor()\n",
    "for buffer_radius in [2000]:\n",
    "    intersection_raw = r\"C:\\Users\\egorb\\Documents\\ГП\\2 курс\\ПроектСем\\3 module\\PyModel\\trash\\trash_000%s.geojson\" % buffer_radius\n",
    "    table = r\"C:\\Users\\egorb\\Documents\\ГП\\2 курс\\ПроектСем\\3 module\\PyModel\\trash\\trash_000%s.xlsx\" % buffer_radius\n",
    "    parameters = {\n",
    "        'bufferradius': buffer_radius,\n",
    "        'kindergartencentroids': kindergarten_pts,\n",
    "        'livinghousescentoids': living_houses_pts,\n",
    "        'Intersection_raw': intersection_raw,\n",
    "        'Spreadsheet': table\n",
    "    }\n",
    "    context = QgsProcessingContext()\n",
    "    feedback = QgsProcessingFeedback()\n",
    "    hello.processAlgorithm(parameters, context=context, model_feedback=feedback)\n",
    "    \n",
    "    # very bad moving data from excel to github excel file\n",
    "    \n",
    "    brand_new_data = pd.read_excel(r\"C:\\Users\\egorb\\Documents\\ГП\\2 курс\\ПроектСем\\3 module\\PyModel\\trash\\trash_000%s.xlsx\" % buffer_radius)\n",
    "    #brand_new_data.to_excel(r\"C:\\Users\\egorb\\Documents\\ГП\\2 курс\\ПроектСем\\3 module\\PyModel\\Calculator.xlsx\", sheet_name = 'intersection_raw')\n",
    "    \n",
    "    xb = xw.Book(r\"C:\\Users\\egorb\\Documents\\ГП\\2 курс\\ПроектСем\\3 module\\PyModel\\Calculator.xlsx\")\n",
    "    sheet = xb.sheets(\"intersection_raw\")\n",
    "    sheet.range(\"A1\", \"K1000\").value = brand_new_data\n",
    "    xb.save()\n",
    "    \n",
    "    time.sleep(0)\n",
    "    \n",
    "    data = pd.read_excel(r\"C:\\Users\\egorb\\Documents\\ГП\\2 курс\\ПроектСем\\3 module\\PyModel\\Calculator.xlsx\", sheet_name = 'Bar_chart', engine=\"openpyxl\")\n",
    "    data_bar_chart = data[[\"Mean\", \"Population\"]].loc[:8]\n",
    "    \n",
    "    endowment = round(pd.read_excel(r\"C:\\Users\\egorb\\Documents\\ГП\\2 курс\\ПроектСем\\3 module\\PyModel\\Calculator.xlsx\", sheet_name = '10', engine=\"openpyxl\")[\"Unnamed: 1\"].loc[0], 2)\n",
    "    \n",
    "    df = data[[\"Обеспеченность\",\"Население\",\"houses id\"]]\n",
    "\n",
    "    df_new = df\n",
    "    for i in range(len(df)):\n",
    "        index_to_copy = i\n",
    "        number_of_extra_copies = df[\"Население\"][i]\n",
    "        df_new = pd.concat([df_new,\n",
    "                    pd.DataFrame(np.repeat(df.iloc[[index_to_copy]].values,\n",
    "                                            number_of_extra_copies,\n",
    "                                            axis=0),\n",
    "                                columns=df.columns)]).sort_values(by=\"houses id\").drop(columns='houses id').reset_index(drop=True)\n",
    "    x = df_new[\"Обеспеченность\"].dropna()\n",
    "    \n",
    "    # graph\n",
    "    \n",
    "    fig, ax1 = plt.subplots()\n",
    "    ax1.hist(x=x, bins=int(1+3.322*math.log10(len(x))), color='#87CEFA',\n",
    "                            alpha=0.6, rwidth=0.85, label='Число жителей')\n",
    "    #ax1.hist(x=x, bins=7, color='#09481D',\n",
    "    #                        alpha=0.8, rwidth=0.85, label='')\n",
    "    \n",
    "    ax1.grid(axis='y', alpha=0.75)\n",
    "    ax1.set_xlabel('Обеспеченность')\n",
    "    ax1.set_ylabel('Население')\n",
    "    plt.title('буфер %sм, обеспеченность=%s' %(buffer_radius, endowment))\n",
    "    maxfreq = n.max()\n",
    "    \n",
    "    bw = 0.25\n",
    "    ax2 = ax1.twinx()\n",
    "    # ax2 = x.plot.kde(bw_method='silverman', label='')\n",
    "    ax2 = x.plot.kde(bw_method=bw, label='KDE: bw=%s' %bw, color='#ffd800')\n",
    "    ax2.set_ylabel('Плотность')\n",
    "    ax2.tick_params(axis='y')\n",
    "    \n",
    "    x_min = min(x)\n",
    "    x_max = max(x)\n",
    "    mean = np.mean(x)\n",
    "    std = np.std(x)\n",
    "    x_norm = np.linspace(x_min, x_max, 55572)\n",
    "    y_norm = scipy.stats.norm.pdf(x_norm,mean,std)\n",
    "    ax2.plot(x_norm,y_norm, color='#000000', linestyle='dotted', label='Normal dist.')\n",
    "    ax2.vlines(54, plt.ylim()[0], plt.ylim()[1], colors='#F8173E', linewidth=1.5, label='Норматив (МГСН)')\n",
    "    \n",
    "    plt.legend()\n",
    "    plt.xlim(min(x), max(x))\n",
    "    fig.tight_layout()\n",
    "    plt.savefig(r\"C:\\Users\\egorb\\Documents\\ГП\\2 курс\\ПроектСем\\3 module\\PyModel\\bar_charts\\chart_%s\" % buffer_radius)\n",
    "    plt.show()"
   ]
  },
  {
   "cell_type": "code",
   "execution_count": null,
   "id": "66f4ccc1",
   "metadata": {},
   "outputs": [],
   "source": []
  }
 ],
 "metadata": {
  "kernelspec": {
   "display_name": "Python 3 (ipykernel)",
   "language": "python",
   "name": "python3"
  },
  "language_info": {
   "codemirror_mode": {
    "name": "ipython",
    "version": 3
   },
   "file_extension": ".py",
   "mimetype": "text/x-python",
   "name": "python",
   "nbconvert_exporter": "python",
   "pygments_lexer": "ipython3",
   "version": "3.9.5"
  }
 },
 "nbformat": 4,
 "nbformat_minor": 5
}
