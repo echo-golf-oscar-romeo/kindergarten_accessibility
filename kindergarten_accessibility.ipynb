{
 "cells": [
  {
   "cell_type": "code",
   "execution_count": 1,
   "id": "75148157",
   "metadata": {},
   "outputs": [],
   "source": [
    "from qgis.core import *\n",
    "import pandas as pd\n",
    "import numpy as np"
   ]
  },
  {
   "cell_type": "code",
   "execution_count": 2,
   "id": "bfd1301c",
   "metadata": {},
   "outputs": [],
   "source": [
    "import sys\n",
    "import os\n",
    "from osgeo import ogr\n",
    "from qgis.core import (\n",
    "     QgsApplication,\n",
    "     QgsProcessingFeedback,\n",
    "     QgsVectorLayer\n",
    ")\n",
    "from qgis.analysis import QgsNativeAlgorithms"
   ]
  },
  {
   "cell_type": "code",
   "execution_count": 3,
   "id": "9727487f",
   "metadata": {},
   "outputs": [],
   "source": [
    "QgsApplication.setPrefixPath(r'C:\\OSGeo4W\\apps\\qgis', True)\n",
    "qgs = QgsApplication([], False)\n",
    "qgs.initQgis()\n",
    "sys.path.append(r'C:\\OSGeo4W\\apps\\qgis\\python\\plugins')"
   ]
  },
  {
   "cell_type": "code",
   "execution_count": 4,
   "id": "5e921c46",
   "metadata": {},
   "outputs": [
    {
     "name": "stderr",
     "output_type": "stream",
     "text": [
      "C:\\OSGeo4W\\apps\\Python39\\lib\\site-packages\\pyproj\\__init__.py:89: UserWarning: pyproj unable to set database path.\n",
      "  _pyproj_global_context_initialize()\n"
     ]
    },
    {
     "data": {
      "text/plain": [
       "False"
      ]
     },
     "execution_count": 4,
     "metadata": {},
     "output_type": "execute_result"
    }
   ],
   "source": [
    "import geopandas as gpd\n",
    "import matplotlib.pyplot as plt\n",
    "plt.ion()\n",
    "import xlwings as xw\n",
    "import time\n",
    "\n",
    "import processing\n",
    "from processing.core.Processing import Processing\n",
    "Processing.initialize()\n",
    "QgsApplication.processingRegistry().addProvider(QgsNativeAlgorithms())\n",
    "#for alg in QgsApplication.processingRegistry().algorithms():\n",
    "#        print(alg.id(), \"--->\", alg.displayName())"
   ]
  },
  {
   "cell_type": "code",
   "execution_count": 5,
   "id": "b56ec289",
   "metadata": {},
   "outputs": [],
   "source": [
    "# living_houses_pts = QgsVectorLayer(r\"https://github.com/echo-golf-oscar-romeo/kindergarten_accessibility/blob/c66a8368b58ad126afb051cc72958379104b80fb/living_houses_pts.geojson\")\n",
    "# kindergarten_pts = QgsVectorLayer(r\"https://github.com/echo-golf-oscar-romeo/kindergarten_accessibility/blob/5f8e3b92d19082e424ded1010d9ca836e44ba49c/kindergarten_pts.geojson\")\n",
    "\n",
    "living_houses_pts = QgsVectorLayer(r\"C:\\Users\\egorb\\Documents\\ГП\\2 курс\\ПроектСем\\3 module\\PyModel\\living_houses_pts.geojson\")\n",
    "kindergarten_pts = QgsVectorLayer(r\"C:\\Users\\egorb\\Documents\\ГП\\2 курс\\ПроектСем\\3 module\\PyModel\\kindergarten_pts.geojson\")"
   ]
  },
  {
   "cell_type": "code",
   "execution_count": 6,
   "id": "28874a08",
   "metadata": {},
   "outputs": [],
   "source": [
    "from qgis.core import QgsProcessing\n",
    "from qgis.core import QgsProcessingAlgorithm\n",
    "from qgis.core import QgsProcessingMultiStepFeedback\n",
    "from qgis.core import QgsProcessingParameterVectorLayer\n",
    "from qgis.core import QgsProcessingParameterNumber\n",
    "from qgis.core import QgsProcessingParameterFileDestination\n",
    "from qgis.core import QgsProcessingParameterFeatureSink\n",
    "import processing\n",
    "\n",
    "\n",
    "class Kindergarten_egor(QgsProcessingAlgorithm):\n",
    "\n",
    "    def initAlgorithm(self, config=None):\n",
    "        self.addParameter(QgsProcessingParameterVectorLayer('livinghousescentoids', 'living_houses_centoids', types=[QgsProcessing.TypeVectorPoint], defaultValue=living_houses_pts))\n",
    "        self.addParameter(QgsProcessingParameterVectorLayer('kindergartencentroids', 'kindergarten_centroids', types=[QgsProcessing.TypeVectorPoint], defaultValue=kindergarten_pts))\n",
    "        self.addParameter(QgsProcessingParameterNumber('bufferradius', 'buffer_radius', type=QgsProcessingParameterNumber.Integer, minValue=1, defaultValue=300))\n",
    "        self.addParameter(QgsProcessingParameterFileDestination('Spreadsheet', 'spreadsheet', fileFilter='Microsoft Excel (*.xlsx);;Open Document Spreadsheet (*.ods)', createByDefault=True, defaultValue=None))\n",
    "        self.addParameter(QgsProcessingParameterFeatureSink('Intersection_raw', 'intersection_raw', optional=True, type=QgsProcessing.TypeVectorAnyGeometry, createByDefault=True, defaultValue=None))\n",
    "\n",
    "    def processAlgorithm(self, parameters, context, model_feedback):\n",
    "        # Use a multi-step feedback, so that individual child algorithm progress reports are adjusted for the\n",
    "        # overall progress through the model\n",
    "        feedback = QgsProcessingMultiStepFeedback(3, model_feedback)\n",
    "        results = {}\n",
    "        outputs = {}\n",
    "\n",
    "        # Buffer\n",
    "        alg_params = {\n",
    "            'DISSOLVE': False,\n",
    "            'DISTANCE': parameters['bufferradius'],\n",
    "            'END_CAP_STYLE': 0,  # Round\n",
    "            'INPUT': parameters['kindergartencentroids'],\n",
    "            'JOIN_STYLE': 0,  # Round\n",
    "            'MITER_LIMIT': 2,\n",
    "            'SEGMENTS': 15,\n",
    "            'OUTPUT': QgsProcessing.TEMPORARY_OUTPUT\n",
    "        }\n",
    "        outputs['Buffer'] = processing.run('native:buffer', alg_params, context=context, feedback=feedback, is_child_algorithm=True)\n",
    "\n",
    "        feedback.setCurrentStep(1)\n",
    "        if feedback.isCanceled():\n",
    "            return {}\n",
    "\n",
    "        # Join attributes by location\n",
    "        alg_params = {\n",
    "            'DISCARD_NONMATCHING': False,\n",
    "            'INPUT': outputs['Buffer']['OUTPUT'],\n",
    "            'JOIN': parameters['livinghousescentoids'],\n",
    "            'JOIN_FIELDS': [''],\n",
    "            'METHOD': 0,  # Create separate feature for each matching feature (one-to-many)\n",
    "            'PREDICATE': [1],  # contains\n",
    "            'PREFIX': 'j_',\n",
    "            'OUTPUT': parameters['Intersection_raw']\n",
    "        }\n",
    "        outputs['JoinAttributesByLocation'] = processing.run('native:joinattributesbylocation', alg_params, context=context, feedback=feedback, is_child_algorithm=True)\n",
    "        results['Intersection_raw'] = outputs['JoinAttributesByLocation']['OUTPUT']\n",
    "\n",
    "        feedback.setCurrentStep(2)\n",
    "        if feedback.isCanceled():\n",
    "            return {}\n",
    "\n",
    "        # Export to spreadsheet\n",
    "        alg_params = {\n",
    "            'FORMATTED_VALUES': False,\n",
    "            'LAYERS': outputs['JoinAttributesByLocation']['OUTPUT'],\n",
    "            'OVERWRITE': True,\n",
    "            'USE_ALIAS': False,\n",
    "            'OUTPUT': parameters['Spreadsheet']\n",
    "        }\n",
    "        outputs['ExportToSpreadsheet'] = processing.run('native:exporttospreadsheet', alg_params, context=context, feedback=feedback, is_child_algorithm=True)\n",
    "        results['Spreadsheet'] = outputs['ExportToSpreadsheet']['OUTPUT']\n",
    "        print(results['Spreadsheet'])\n",
    "        return results\n",
    "\n",
    "    def name(self):\n",
    "        return 'kindergarten_egor'\n",
    "\n",
    "    def displayName(self):\n",
    "        return 'kindergarten_egor'\n",
    "\n",
    "    def group(self):\n",
    "        return 'egor'\n",
    "\n",
    "    def groupId(self):\n",
    "        return 'egor'\n",
    "\n",
    "    def createInstance(self):\n",
    "        return Kindergarten_egor()"
   ]
  },
  {
   "cell_type": "code",
   "execution_count": 11,
   "id": "dfb6bcf9",
   "metadata": {},
   "outputs": [
    {
     "name": "stdout",
     "output_type": "stream",
     "text": [
      "C:\\Users\\egorb\\Documents\\ГП\\2 курс\\ПроектСем\\3 module\\PyModel\\trash\\trash_000200.xlsx\n",
      "   houses id  Обеспеченность  Население\n",
      "0          0        0.000000        431\n",
      "1          1       59.549746        551\n",
      "2          2       59.549746        468\n",
      "3          3       59.549746        373\n",
      "4          4       59.549746        374\n"
     ]
    },
    {
     "data": {
      "image/png": "[encoded data removed]",
      "text/plain": [
       "<Figure size 144x144 with 1 Axes>"
      ]
     },
     "metadata": {
      "needs_background": "light"
     },
     "output_type": "display_data"
    },
    {
     "name": "stdout",
     "output_type": "stream",
     "text": [
      "C:\\Users\\egorb\\Documents\\ГП\\2 курс\\ПроектСем\\3 module\\PyModel\\trash\\trash_000225.xlsx\n",
      "   houses id  Обеспеченность  Население\n",
      "0          0         0.00000        431\n",
      "1          1        53.86513        551\n",
      "2          2        53.86513        468\n",
      "3          3        53.86513        373\n",
      "4          4        53.86513        374\n"
     ]
    },
    {
     "data": {
      "image/png": "[encoded data removed]",
      "text/plain": [
       "<Figure size 144x144 with 1 Axes>"
      ]
     },
     "metadata": {
      "needs_background": "light"
     },
     "output_type": "display_data"
    },
    {
     "name": "stdout",
     "output_type": "stream",
     "text": [
      "C:\\Users\\egorb\\Documents\\ГП\\2 курс\\ПроектСем\\3 module\\PyModel\\trash\\trash_000250.xlsx\n",
      "   houses id  Обеспеченность  Население\n",
      "0          0        0.000000        431\n",
      "1          1       59.133837        551\n",
      "2          2       58.554019        468\n",
      "3          3       58.554019        373\n",
      "4          4       59.133837        374\n"
     ]
    },
    {
     "data": {
      "image/png": "[encoded data removed]",
      "text/plain": [
       "<Figure size 144x144 with 1 Axes>"
      ]
     },
     "metadata": {
      "needs_background": "light"
     },
     "output_type": "display_data"
    },
    {
     "name": "stdout",
     "output_type": "stream",
     "text": [
      "C:\\Users\\egorb\\Documents\\ГП\\2 курс\\ПроектСем\\3 module\\PyModel\\trash\\trash_000275.xlsx\n",
      "   houses id  Обеспеченность  Население\n",
      "0          0        0.000000        431\n",
      "1          1       55.390368        551\n",
      "2          2       54.009169        468\n",
      "3          3       54.009169        373\n",
      "4          4       54.009169        374\n"
     ]
    },
    {
     "data": {
      "image/png": "[encoded data removed]",
      "text/plain": [
       "<Figure size 144x144 with 1 Axes>"
      ]
     },
     "metadata": {
      "needs_background": "light"
     },
     "output_type": "display_data"
    },
    {
     "name": "stdout",
     "output_type": "stream",
     "text": [
      "C:\\Users\\egorb\\Documents\\ГП\\2 курс\\ПроектСем\\3 module\\PyModel\\trash\\trash_000300.xlsx\n",
      "   houses id  Обеспеченность  Население\n",
      "0          0        0.000000        431\n",
      "1          1       50.562867        551\n",
      "2          2       54.303513        468\n",
      "3          3       54.303513        373\n",
      "4          4       54.303513        374\n"
     ]
    },
    {
     "data": {
      "image/png": "[encoded data removed]",
      "text/plain": [
       "<Figure size 144x144 with 1 Axes>"
      ]
     },
     "metadata": {
      "needs_background": "light"
     },
     "output_type": "display_data"
    },
    {
     "name": "stdout",
     "output_type": "stream",
     "text": [
      "C:\\Users\\egorb\\Documents\\ГП\\2 курс\\ПроектСем\\3 module\\PyModel\\trash\\trash_000325.xlsx\n",
      "   houses id  Обеспеченность  Население\n",
      "0          0        0.000000        431\n",
      "1          1       43.077884        551\n",
      "2          2       49.645307        468\n",
      "3          3       49.645307        373\n",
      "4          4       49.645307        374\n"
     ]
    },
    {
     "data": {
      "image/png": "[encoded data removed]",
      "text/plain": [
       "<Figure size 144x144 with 1 Axes>"
      ]
     },
     "metadata": {
      "needs_background": "light"
     },
     "output_type": "display_data"
    },
    {
     "name": "stdout",
     "output_type": "stream",
     "text": [
      "C:\\Users\\egorb\\Documents\\ГП\\2 курс\\ПроектСем\\3 module\\PyModel\\trash\\trash_000350.xlsx\n",
      "   houses id  Обеспеченность  Население\n",
      "0          0        0.000000        431\n",
      "1          1       41.475451        551\n",
      "2          2       48.846224        468\n",
      "3          3       48.004946        373\n",
      "4          4       48.846224        374\n"
     ]
    },
    {
     "data": {
      "image/png": "[encoded data removed]",
      "text/plain": [
       "<Figure size 144x144 with 1 Axes>"
      ]
     },
     "metadata": {
      "needs_background": "light"
     },
     "output_type": "display_data"
    },
    {
     "name": "stdout",
     "output_type": "stream",
     "text": [
      "C:\\Users\\egorb\\Documents\\ГП\\2 курс\\ПроектСем\\3 module\\PyModel\\trash\\trash_000375.xlsx\n",
      "   houses id  Обеспеченность  Население\n",
      "0          0        0.000000        431\n",
      "1          1       41.226017        551\n",
      "2          2       47.050370        468\n",
      "3          3       47.455206        373\n",
      "4          4       47.050370        374\n"
     ]
    },
    {
     "data": {
      "image/png": "[encoded data removed]",
      "text/plain": [
       "<Figure size 144x144 with 1 Axes>"
      ]
     },
     "metadata": {
      "needs_background": "light"
     },
     "output_type": "display_data"
    },
    {
     "name": "stdout",
     "output_type": "stream",
     "text": [
      "C:\\Users\\egorb\\Documents\\ГП\\2 курс\\ПроектСем\\3 module\\PyModel\\trash\\trash_000400.xlsx\n",
      "   houses id  Обеспеченность  Население\n",
      "0          0        0.000000        431\n",
      "1          1       33.519377        551\n",
      "2          2       44.236503        468\n",
      "3          3       46.095511        373\n",
      "4          4       44.236503        374\n"
     ]
    },
    {
     "data": {
      "image/png": "[encoded data removed]",
      "text/plain": [
       "<Figure size 144x144 with 1 Axes>"
      ]
     },
     "metadata": {
      "needs_background": "light"
     },
     "output_type": "display_data"
    },
    {
     "name": "stdout",
     "output_type": "stream",
     "text": [
      "C:\\Users\\egorb\\Documents\\ГП\\2 курс\\ПроектСем\\3 module\\PyModel\\trash\\trash_000425.xlsx\n",
      "   houses id  Обеспеченность  Население\n",
      "0          0        0.000000        431\n",
      "1          1       37.472770        551\n",
      "2          2       45.328296        468\n",
      "3          3       45.328296        373\n",
      "4          4       46.363632        374\n"
     ]
    },
    {
     "data": {
      "image/png": "[encoded data removed]",
      "text/plain": [
       "<Figure size 144x144 with 1 Axes>"
      ]
     },
     "metadata": {
      "needs_background": "light"
     },
     "output_type": "display_data"
    },
    {
     "name": "stdout",
     "output_type": "stream",
     "text": [
      "C:\\Users\\egorb\\Documents\\ГП\\2 курс\\ПроектСем\\3 module\\PyModel\\trash\\trash_000450.xlsx\n",
      "   houses id  Обеспеченность  Население\n",
      "0          0        0.000000        431\n",
      "1          1       34.864641        551\n",
      "2          2       44.186884        468\n",
      "3          3       44.186884        373\n",
      "4          4       45.186418        374\n"
     ]
    },
    {
     "data": {
      "image/png": "[encoded data removed]",
      "text/plain": [
       "<Figure size 144x144 with 1 Axes>"
      ]
     },
     "metadata": {
      "needs_background": "light"
     },
     "output_type": "display_data"
    },
    {
     "name": "stdout",
     "output_type": "stream",
     "text": [
      "C:\\Users\\egorb\\Documents\\ГП\\2 курс\\ПроектСем\\3 module\\PyModel\\trash\\trash_000475.xlsx\n",
      "   houses id  Обеспеченность  Население\n",
      "0          0        0.000000        431\n",
      "1          1       42.461364        551\n",
      "2          2       41.947824        468\n",
      "3          3       41.947824        373\n",
      "4          4       46.603098        374\n"
     ]
    },
    {
     "data": {
      "image/png": "[encoded data removed]",
      "text/plain": [
       "<Figure size 144x144 with 1 Axes>"
      ]
     },
     "metadata": {
      "needs_background": "light"
     },
     "output_type": "display_data"
    },
    {
     "name": "stdout",
     "output_type": "stream",
     "text": [
      "C:\\Users\\egorb\\Documents\\ГП\\2 курс\\ПроектСем\\3 module\\PyModel\\trash\\trash_000500.xlsx\n",
      "   houses id  Обеспеченность  Население\n",
      "0          0        0.000000        431\n",
      "1          1       40.406279        551\n",
      "2          2       40.074616        468\n",
      "3          3       40.074616        373\n",
      "4          4       45.687463        374\n"
     ]
    },
    {
     "data": {
      "image/png": "[encoded data removed]",
      "text/plain": [
       "<Figure size 144x144 with 1 Axes>"
      ]
     },
     "metadata": {
      "needs_background": "light"
     },
     "output_type": "display_data"
    }
   ],
   "source": [
    "hello = Kindergarten_egor()\n",
    "for buffer_radius in [200,225,250,275,300,325,350,375,400,425,450,475,500]:#[300,310,320,330,340,350,360,370,380,390,400,500]:\n",
    "    intersection_raw = r\"C:\\Users\\egorb\\Documents\\ГП\\2 курс\\ПроектСем\\3 module\\PyModel\\trash\\trash_000%s.geojson\" % buffer_radius\n",
    "    table = r\"C:\\Users\\egorb\\Documents\\ГП\\2 курс\\ПроектСем\\3 module\\PyModel\\trash\\trash_000%s.xlsx\" % buffer_radius\n",
    "    parameters = {\n",
    "        'bufferradius': buffer_radius,\n",
    "        'kindergartencentroids': kindergarten_pts,\n",
    "        'livinghousescentoids': living_houses_pts,\n",
    "        'Intersection_raw': intersection_raw,\n",
    "        'Spreadsheet': table\n",
    "    }\n",
    "    context = QgsProcessingContext()\n",
    "    feedback = QgsProcessingFeedback()\n",
    "    hello.processAlgorithm(parameters, context=context, model_feedback=feedback)\n",
    "    \n",
    "    # very bad moving data from excel to github excel file\n",
    "    \n",
    "    brand_new_data = pd.read_excel(r\"C:\\Users\\egorb\\Documents\\ГП\\2 курс\\ПроектСем\\3 module\\PyModel\\trash\\trash_000%s.xlsx\" % buffer_radius)\n",
    "    #brand_new_data.to_excel(r\"C:\\Users\\egorb\\Documents\\ГП\\2 курс\\ПроектСем\\3 module\\PyModel\\Calculator.xlsx\", sheet_name = 'intersection_raw')\n",
    "    \n",
    "    xb = xw.Book(r\"C:\\Users\\egorb\\Documents\\ГП\\2 курс\\ПроектСем\\3 module\\PyModel\\Calculator.xlsx\")\n",
    "    sheet = xb.sheets(\"intersection_raw\")\n",
    "    sheet.range(\"A1\", \"K1000\").value = brand_new_data\n",
    "    xb.save()\n",
    "    \n",
    "    time.sleep(0)\n",
    "    \n",
    "    data = pd.read_excel(r\"C:\\Users\\egorb\\Documents\\ГП\\2 курс\\ПроектСем\\3 module\\PyModel\\Calculator.xlsx\", sheet_name = 'Bar_chart', engine=\"openpyxl\")\n",
    "    data_bar_chart = data[[\"Mean\", \"Population\"]].loc[:8]\n",
    "    print(data[[\"houses id\", \"Обеспеченность\", \"Население\"]].head())\n",
    "    \n",
    "    plt.style.use('_mpl-gallery')\n",
    "    x = data_bar_chart[\"Mean\"]\n",
    "    y = data_bar_chart[\"Population\"]\n",
    "    fig, ax = plt.subplots()\n",
    "    ax.bar(x, y, width=10, edgecolor=\"white\", linewidth=0.7)\n",
    "    ax.set(xlim=(0, 100), xticks=np.arange(1, 100, 10), ylim=(0, 15000), yticks=np.arange(0, 15000, 1750))\n",
    "    plt.savefig(r\"C:\\Users\\egorb\\Documents\\ГП\\2 курс\\ПроектСем\\3 module\\PyModel\\bar_charts\\chart_%s\" % buffer_radius)\n",
    "    plt.show()"
   ]
  },
  {
   "cell_type": "code",
   "execution_count": null,
   "id": "1ad2b77d",
   "metadata": {},
   "outputs": [],
   "source": []
  },
  {
   "cell_type": "code",
   "execution_count": null,
   "id": "4b62474c",
   "metadata": {},
   "outputs": [],
   "source": []
  }
 ],
 "metadata": {
  "kernelspec": {
   "display_name": "Python 3 (ipykernel)",
   "language": "python",
   "name": "python3"
  },
  "language_info": {
   "codemirror_mode": {
    "name": "ipython",
    "version": 3
   },
   "file_extension": ".py",
   "mimetype": "text/x-python",
   "name": "python",
   "nbconvert_exporter": "python",
   "pygments_lexer": "ipython3",
   "version": "3.9.5"
  }
 },
 "nbformat": 4,
 "nbformat_minor": 5
}
