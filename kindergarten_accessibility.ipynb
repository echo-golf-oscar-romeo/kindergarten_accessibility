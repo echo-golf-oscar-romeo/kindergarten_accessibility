{
 "cells": [
  {
   "cell_type": "code",
   "execution_count": 1,
   "id": "75148157",
   "metadata": {},
   "outputs": [],
   "source": [
    "from qgis.core import *\n",
    "import pandas as pd\n",
    "import numpy as np"
   ]
  },
  {
   "cell_type": "code",
   "execution_count": 2,
   "id": "bfd1301c",
   "metadata": {},
   "outputs": [],
   "source": [
    "import sys\n",
    "import os\n",
    "from osgeo import ogr\n",
    "from qgis.core import (\n",
    "     QgsApplication,\n",
    "     QgsProcessingFeedback,\n",
    "     QgsVectorLayer\n",
    ")\n",
    "from qgis.analysis import QgsNativeAlgorithms"
   ]
  },
  {
   "cell_type": "code",
   "execution_count": 3,
   "id": "9727487f",
   "metadata": {},
   "outputs": [],
   "source": [
    "QgsApplication.setPrefixPath(r'C:\\OSGeo4W\\apps\\qgis', True)\n",
    "qgs = QgsApplication([], False)\n",
    "qgs.initQgis()\n",
    "sys.path.append(r'C:\\OSGeo4W\\apps\\qgis\\python\\plugins')"
   ]
  },
  {
   "cell_type": "code",
   "execution_count": 105,
   "id": "5e921c46",
   "metadata": {},
   "outputs": [
    {
     "data": {
      "text/plain": [
       "False"
      ]
     },
     "execution_count": 105,
     "metadata": {},
     "output_type": "execute_result"
    }
   ],
   "source": [
    "import geopandas as gpd\n",
    "import matplotlib.pyplot as plt\n",
    "plt.ion()\n",
    "import xlwings as xw\n",
    "import time\n",
    "import seaborn as sns\n",
    "import math\n",
    "import statistics\n",
    "import scipy.stats\n",
    "\n",
    "import processing\n",
    "from processing.core.Processing import Processing\n",
    "Processing.initialize()\n",
    "QgsApplication.processingRegistry().addProvider(QgsNativeAlgorithms())\n",
    "#for alg in QgsApplication.processingRegistry().algorithms():\n",
    "#        print(alg.id(), \"--->\", alg.displayName())"
   ]
  },
  {
   "cell_type": "code",
   "execution_count": 5,
   "id": "b56ec289",
   "metadata": {},
   "outputs": [],
   "source": [
    "# living_houses_pts = QgsVectorLayer(r\"https://github.com/echo-golf-oscar-romeo/kindergarten_accessibility/blob/c66a8368b58ad126afb051cc72958379104b80fb/living_houses_pts.geojson\")\n",
    "# kindergarten_pts = QgsVectorLayer(r\"https://github.com/echo-golf-oscar-romeo/kindergarten_accessibility/blob/5f8e3b92d19082e424ded1010d9ca836e44ba49c/kindergarten_pts.geojson\")\n",
    "\n",
    "living_houses_pts = QgsVectorLayer(r\"C:\\Users\\egorb\\Documents\\ГП\\2 курс\\ПроектСем\\3 module\\PyModel\\resid.geojson\")\n",
    "kindergarten_pts = QgsVectorLayer(r\"C:\\Users\\egorb\\Documents\\ГП\\2 курс\\ПроектСем\\3 module\\PyModel\\kindergarten_pts.geojson\")"
   ]
  },
  {
   "cell_type": "code",
   "execution_count": 6,
   "id": "28874a08",
   "metadata": {},
   "outputs": [],
   "source": [
    "from qgis.core import QgsProcessing\n",
    "from qgis.core import QgsProcessingAlgorithm\n",
    "from qgis.core import QgsProcessingMultiStepFeedback\n",
    "from qgis.core import QgsProcessingParameterVectorLayer\n",
    "from qgis.core import QgsProcessingParameterNumber\n",
    "from qgis.core import QgsProcessingParameterFileDestination\n",
    "from qgis.core import QgsProcessingParameterFeatureSink\n",
    "import processing\n",
    "\n",
    "\n",
    "class Kindergarten_egor(QgsProcessingAlgorithm):\n",
    "\n",
    "    def initAlgorithm(self, config=None):\n",
    "        self.addParameter(QgsProcessingParameterVectorLayer('livinghousescentoids', 'living_houses_centoids', types=[QgsProcessing.TypeVectorPoint], defaultValue=living_houses_pts))\n",
    "        self.addParameter(QgsProcessingParameterVectorLayer('kindergartencentroids', 'kindergarten_centroids', types=[QgsProcessing.TypeVectorPoint], defaultValue=kindergarten_pts))\n",
    "        self.addParameter(QgsProcessingParameterNumber('bufferradius', 'buffer_radius', type=QgsProcessingParameterNumber.Integer, minValue=1, defaultValue=300))\n",
    "        self.addParameter(QgsProcessingParameterFileDestination('Spreadsheet', 'spreadsheet', fileFilter='Microsoft Excel (*.xlsx);;Open Document Spreadsheet (*.ods)', createByDefault=True, defaultValue=None))\n",
    "        self.addParameter(QgsProcessingParameterFeatureSink('Intersection_raw', 'intersection_raw', optional=True, type=QgsProcessing.TypeVectorAnyGeometry, createByDefault=True, defaultValue=None))\n",
    "\n",
    "    def processAlgorithm(self, parameters, context, model_feedback):\n",
    "        # Use a multi-step feedback, so that individual child algorithm progress reports are adjusted for the\n",
    "        # overall progress through the model\n",
    "        feedback = QgsProcessingMultiStepFeedback(3, model_feedback)\n",
    "        results = {}\n",
    "        outputs = {}\n",
    "\n",
    "        # Buffer\n",
    "        alg_params = {\n",
    "            'DISSOLVE': False,\n",
    "            'DISTANCE': parameters['bufferradius'],\n",
    "            'END_CAP_STYLE': 0,  # Round\n",
    "            'INPUT': parameters['kindergartencentroids'],\n",
    "            'JOIN_STYLE': 0,  # Round\n",
    "            'MITER_LIMIT': 2,\n",
    "            'SEGMENTS': 15,\n",
    "            'OUTPUT': QgsProcessing.TEMPORARY_OUTPUT\n",
    "        }\n",
    "        outputs['Buffer'] = processing.run('native:buffer', alg_params, context=context, feedback=feedback, is_child_algorithm=True)\n",
    "\n",
    "        feedback.setCurrentStep(1)\n",
    "        if feedback.isCanceled():\n",
    "            return {}\n",
    "\n",
    "        # Join attributes by location\n",
    "        alg_params = {\n",
    "            'DISCARD_NONMATCHING': False,\n",
    "            'INPUT': outputs['Buffer']['OUTPUT'],\n",
    "            'JOIN': parameters['livinghousescentoids'],\n",
    "            'JOIN_FIELDS': [''],\n",
    "            'METHOD': 0,  # Create separate feature for each matching feature (one-to-many)\n",
    "            'PREDICATE': [1],  # contains\n",
    "            'PREFIX': 'j_',\n",
    "            'OUTPUT': parameters['Intersection_raw']\n",
    "        }\n",
    "        outputs['JoinAttributesByLocation'] = processing.run('native:joinattributesbylocation', alg_params, context=context, feedback=feedback, is_child_algorithm=True)\n",
    "        results['Intersection_raw'] = outputs['JoinAttributesByLocation']['OUTPUT']\n",
    "\n",
    "        feedback.setCurrentStep(2)\n",
    "        if feedback.isCanceled():\n",
    "            return {}\n",
    "\n",
    "        # Export to spreadsheet\n",
    "        alg_params = {\n",
    "            'FORMATTED_VALUES': False,\n",
    "            'LAYERS': outputs['JoinAttributesByLocation']['OUTPUT'],\n",
    "            'OVERWRITE': True,\n",
    "            'USE_ALIAS': False,\n",
    "            'OUTPUT': parameters['Spreadsheet']\n",
    "        }\n",
    "        outputs['ExportToSpreadsheet'] = processing.run('native:exporttospreadsheet', alg_params, context=context, feedback=feedback, is_child_algorithm=True)\n",
    "        results['Spreadsheet'] = outputs['ExportToSpreadsheet']['OUTPUT']\n",
    "        print(results['Spreadsheet'])\n",
    "        return results\n",
    "\n",
    "    def name(self):\n",
    "        return 'kindergarten_egor'\n",
    "\n",
    "    def displayName(self):\n",
    "        return 'kindergarten_egor'\n",
    "\n",
    "    def group(self):\n",
    "        return 'egor'\n",
    "\n",
    "    def groupId(self):\n",
    "        return 'egor'\n",
    "\n",
    "    def createInstance(self):\n",
    "        return Kindergarten_egor()"
   ]
  },
  {
   "cell_type": "code",
   "execution_count": 159,
   "id": "dfb6bcf9",
   "metadata": {
    "scrolled": true
   },
   "outputs": [
    {
     "name": "stdout",
     "output_type": "stream",
     "text": [
      "C:\\Users\\egorb\\Documents\\ГП\\2 курс\\ПроектСем\\3 module\\PyModel\\trash\\trash_000475.xlsx\n"
     ]
    },
    {
     "data": {
      "image/png": "[encoded data removed]",
      "text/plain": [
       "<Figure size 432x288 with 2 Axes>"
      ]
     },
     "metadata": {
      "needs_background": "light"
     },
     "output_type": "display_data"
    }
   ],
   "source": [
    "hello = Kindergarten_egor()\n",
    "for buffer_radius in [475]:\n",
    "    intersection_raw = r\"C:\\Users\\egorb\\Documents\\ГП\\2 курс\\ПроектСем\\3 module\\PyModel\\trash\\trash_000%s.geojson\" % buffer_radius\n",
    "    table = r\"C:\\Users\\egorb\\Documents\\ГП\\2 курс\\ПроектСем\\3 module\\PyModel\\trash\\trash_000%s.xlsx\" % buffer_radius\n",
    "    parameters = {\n",
    "        'bufferradius': buffer_radius,\n",
    "        'kindergartencentroids': kindergarten_pts,\n",
    "        'livinghousescentoids': living_houses_pts,\n",
    "        'Intersection_raw': intersection_raw,\n",
    "        'Spreadsheet': table\n",
    "    }\n",
    "    context = QgsProcessingContext()\n",
    "    feedback = QgsProcessingFeedback()\n",
    "    hello.processAlgorithm(parameters, context=context, model_feedback=feedback)\n",
    "    \n",
    "    # very bad moving data from excel to github excel file\n",
    "    \n",
    "    brand_new_data = pd.read_excel(r\"C:\\Users\\egorb\\Documents\\ГП\\2 курс\\ПроектСем\\3 module\\PyModel\\trash\\trash_000%s.xlsx\" % buffer_radius)\n",
    "    #brand_new_data.to_excel(r\"C:\\Users\\egorb\\Documents\\ГП\\2 курс\\ПроектСем\\3 module\\PyModel\\Calculator.xlsx\", sheet_name = 'intersection_raw')\n",
    "    \n",
    "    xb = xw.Book(r\"C:\\Users\\egorb\\Documents\\ГП\\2 курс\\ПроектСем\\3 module\\PyModel\\Calculator.xlsx\")\n",
    "    sheet = xb.sheets(\"intersection_raw\")\n",
    "    sheet.range(\"A1\", \"K1000\").value = brand_new_data\n",
    "    xb.save()\n",
    "    \n",
    "    time.sleep(0)\n",
    "    \n",
    "    data = pd.read_excel(r\"C:\\Users\\egorb\\Documents\\ГП\\2 курс\\ПроектСем\\3 module\\PyModel\\Calculator.xlsx\", sheet_name = 'Bar_chart', engine=\"openpyxl\")\n",
    "    data_bar_chart = data[[\"Mean\", \"Population\"]].loc[:8]\n",
    "    \n",
    "    endowment = round(pd.read_excel(r\"C:\\Users\\egorb\\Documents\\ГП\\2 курс\\ПроектСем\\3 module\\PyModel\\Calculator.xlsx\", sheet_name = '10', engine=\"openpyxl\")[\"Unnamed: 1\"].loc[0], 2)\n",
    "    \n",
    "    df = data[[\"Обеспеченность\",\"Население\",\"houses id\"]]\n",
    "\n",
    "    df_new = df\n",
    "    for i in range(len(df)):\n",
    "        index_to_copy = i\n",
    "        number_of_extra_copies = df[\"Население\"][i]\n",
    "        df_new = pd.concat([df_new,\n",
    "                    pd.DataFrame(np.repeat(df.iloc[[index_to_copy]].values,\n",
    "                                            number_of_extra_copies,\n",
    "                                            axis=0),\n",
    "                                columns=df.columns)]).sort_values(by=\"houses id\").drop(columns='houses id').reset_index(drop=True)\n",
    "    x = df_new[\"Обеспеченность\"].dropna()\n",
    "    \n",
    "    # graph\n",
    "    \n",
    "    fig, ax1 = plt.subplots()\n",
    "    ax1.hist(x=x, bins=int(1+3.322*math.log10(len(x))), color='#87CEFA',\n",
    "                            alpha=0.6, rwidth=0.85, label='Число жителей')\n",
    "    #ax1.hist(x=x, bins=7, color='#09481D',\n",
    "    #                        alpha=0.8, rwidth=0.85, label='')\n",
    "    \n",
    "    ax1.grid(axis='y', alpha=0.75)\n",
    "    ax1.set_xlabel('Обеспеченность')\n",
    "    ax1.set_ylabel('Население')\n",
    "    plt.title('буфер %sм, обеспеченность=%s' %(buffer_radius, endowment))\n",
    "    maxfreq = n.max()\n",
    "    \n",
    "    bw = 0.25\n",
    "    ax2 = ax1.twinx()\n",
    "    # ax2 = x.plot.kde(bw_method='silverman', label='')\n",
    "    ax2 = x.plot.kde(bw_method=bw, label='KDE: bw=%s' %bw, color='#ffd800')\n",
    "    ax2.set_ylabel('Плотность')\n",
    "    ax2.tick_params(axis='y')\n",
    "    \n",
    "    x_min = min(x)\n",
    "    x_max = max(x)\n",
    "    mean = np.mean(x)\n",
    "    std = np.std(x)\n",
    "    x_norm = np.linspace(x_min, x_max, 55572)\n",
    "    y_norm = scipy.stats.norm.pdf(x_norm,mean,std)\n",
    "    ax2.plot(x_norm,y_norm, color='#000000', linestyle='dotted', label='Normal dist.')\n",
    "    ax2.vlines(54, plt.ylim()[0], plt.ylim()[1], colors='#F8173E', linewidth=1.5, label='Норматив (МГСН)')\n",
    "    \n",
    "    plt.legend()\n",
    "    plt.xlim(min(x), max(x))\n",
    "    fig.tight_layout()\n",
    "    plt.savefig(r\"C:\\Users\\egorb\\Documents\\ГП\\2 курс\\ПроектСем\\3 module\\PyModel\\bar_charts\\chart_%s\" % buffer_radius)\n",
    "    plt.show()"
   ]
  },
  {
   "cell_type": "code",
   "execution_count": null,
   "id": "8b14a479",
   "metadata": {},
   "outputs": [],
   "source": []
  }
 ],
 "metadata": {
  "kernelspec": {
   "display_name": "Python 3 (ipykernel)",
   "language": "python",
   "name": "python3"
  },
  "language_info": {
   "codemirror_mode": {
    "name": "ipython",
    "version": 3
   },
   "file_extension": ".py",
   "mimetype": "text/x-python",
   "name": "python",
   "nbconvert_exporter": "python",
   "pygments_lexer": "ipython3",
   "version": "3.9.5"
  }
 },
 "nbformat": 4,
 "nbformat_minor": 5
}
